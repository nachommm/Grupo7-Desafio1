{
 "cells": [
  {
   "cell_type": "markdown",
   "metadata": {},
   "source": [
    "1. Cargar el data set\n",
    "1. Hacer el analisis de forma, cantidades de nulos, value_count de tipo de propiedad etc\n",
    "1. Agrupar por provincia para que se vea que capital tiene mas datos\n",
    "1. Value_counts de CABA\n",
    "1. Desglosar la columna parent_name y tomar barrio (Palermo en vez de Palermo Soho, etc)\n",
    "1. Limpiar los datos de barrios\n",
    "1. Nuevos dataframes: Buenos Aires + el analisis de parent_name\n",
    "1. Chequear tasa de cambio de dolares a pesos con las respectivas pruebas de que este ok calculo\n",
    "1. Crear una variable/campo/columna nueva con el precio en dolares (calculado como precio en pesos/ tasa de cambio)\n",
    "1. Chequear nulos con umbral +9 y dropear \n",
    "1. Chequear la moneda y dropear los casos extraños\n",
    "1. Agrupar por barrio y .describe() sobre precio_mt2\n",
    "1. Box plot y ver outliers o casos llmativos. Graficar los que tengan mayor desvío\n",
    "1. TOMAR DECISION: de acuerdo al analisis como imputamos los valores faltantes de precio por mt2\n",
    "    1. Aplicar la media, mediana?\n",
    "    1. Aplicar el valor del vecino mas cercano en funcion de la cantidad de metros (agrupar por barrio y ordenar por cantidad de metros totales)\n",
    "    1. Hacer qcut o cut por cantidad de metros, aplicar la media sobre los intervalos  a los deptos que entren en esa cantidad de metros (esto es posible???)\n",
    "1. Describe de nuevo para ver como cambian los valores con imputacion\n",
    "1. Analisis del campo descrition: para ambientes y amemities (pileta/piscina, SUM, laundry/lavadero, cochera/garage, Gimnasio/gym, seguridad)\n",
    "1. Convertir en dummies los valores del campo descripcion y tipo de propiedad\n",
    "1. Grafico de distribucion con geolocalizacion / cantidad de ventas por barrio segun tipo de propiedad\n",
    "\n",
    "\n",
    "\n",
    "**Notas**:\n",
    "- En este momento hay muchas celdas que tiran error porque los objetos tienen nombres distintos! \n",
    "- Existe una forma de parsear URLs [URL parser](https://docs.python.org/3/library/urllib.parse.html).<br>\n",
    "Lo nombramos pero no profundizamos. No sé si tiene mucho sentido adentrarnos en ese analisis y vamos a usar el campo description \n",
    "- Traté de ordenar todo lo que ya estaba hecho como lo pusimos en la lista. Lo de la distribucion de MONEDA me quedo antes pero se puede pasar abajo sin problemas. Tambien todo lo que refiere al calculo de tasa de cambio y de precio_uss podria hacerse tanto antes de filtrat caba como despues.\n",
    "- Una vez que hayamos completado la nb, hay que chequear consistenecia en nombres de variables, objetos, etc etc\n",
    "- Tambien habria que dar una leida a todos los textos del markdown, dar consistencia a la sinxtaxis (markdown o html) y completar las explicaciones o comentarios del codigo que hagan falta\n",
    "- Armar el table of contents del archivo (Jazmin)\n",
    "- Todo lo que no supe como hacer y ya no me daba la cabeza lo deje comentado para retomar despues"
   ]
  },
  {
   "cell_type": "markdown",
   "metadata": {},
   "source": [
    "<h1>Desarrollo del Desafio 1</h1>\n",
    "\n",
    "<p>La inmobiliaria Properati publica periódicamente información sobre ofertas de propiedades para venta y alquiler. Ud. deberá asesorar a la inmobiliaria a desarrollar un modelo de regresión que permita predecir el precio por metro cuadrado de una propiedad. El objetivo             \n",
    "final es que el modelo que desarrollen sea utilizado como tasador automático a ser aplicados a las próximas propiedades que sean comercializadas por la empresa. Para ello la empresa le provee de un dataset correspondiente al primer semestre de 2017.</p>\n",
    "\n",
    "El dataset es de tamaño entre pequeño y mediano, pero tiene dos complejidades a las que deberá prestarle atención:\n",
    " \n",
    "<ul>\n",
    "    <li>Peso de missing data en algunas variables relevantes.</li>\n",
    "    <li>Será importante tener en cuenta el problema de la influencia espacial en los precios por metro cuadrado. En efecto, es probable que existan diferencias importantes de en las diferentes geografías, barrios y zonas analizadas.</li>\n",
    "</ul>\n",
    "\n",
    "<h2>Objetivos:</h2>\n",
    "\n",
    "<ul>\n",
    "    <li>Efectuar una limpieza del dataset provisto. Particularmente, deberá diseñar estrategias para lidiar con los datos perdidos en ciertas variables.</li>\n",
    "    <li>Realizar un análisis descriptivo de las principales variables.</li>\n",
    "    <li>Crear nuevas columnas a partir de las características dadas que puedan tener valor predictivo.</li>\n",
    "</ul>"
   ]
  },
  {
   "cell_type": "markdown",
   "metadata": {},
   "source": [
    "### Importar las librerias que vamos a utilizar ###"
   ]
  },
  {
   "cell_type": "code",
   "execution_count": null,
   "metadata": {},
   "outputs": [],
   "source": [
    "import numpy as np\n",
    "import pandas as pd\n",
    "import chardet\n",
    "import re"
   ]
  },
  {
   "cell_type": "markdown",
   "metadata": {},
   "source": [
    "### 1. Cargar el data set y verificar que los datos se hayan importado correctamente ###"
   ]
  },
  {
   "cell_type": "code",
   "execution_count": null,
   "metadata": {},
   "outputs": [],
   "source": [
    "# Funcion especial para autodetectar el encoding. La eliminamos porque demora mucho!!!\n",
    "# def get_encoding_type(csv_path):\n",
    "#     rawdata = open(csv_path, 'rb').read()\n",
    "#     result = chardet.detect(rawdata)\n",
    "#     return result.get('encoding')"
   ]
  },
  {
   "cell_type": "code",
   "execution_count": null,
   "metadata": {},
   "outputs": [],
   "source": [
    "#Se define la ruta de la información.\n",
    "data_propiedades = \"../Data/properati.csv\"\n",
    "#Leemos los datos del archivo\n",
    "data = pd.read_csv(data_propiedades, sep=\",\", encoding=\"UTF-8\")\n",
    "#Chequeamos que los datos se hayan importado correctamente\n",
    "data.head(3)"
   ]
  },
  {
   "cell_type": "code",
   "execution_count": null,
   "metadata": {},
   "outputs": [],
   "source": [
    "data.tail()"
   ]
  },
  {
   "cell_type": "markdown",
   "metadata": {},
   "source": [
    "### 2. Hacer el analisis de forma, cantidad de registros, cantidades de nulos por campo, value_counts ###"
   ]
  },
  {
   "cell_type": "code",
   "execution_count": null,
   "metadata": {},
   "outputs": [],
   "source": [
    "#Chequeamos cantidad de registros y cantidad de variables\n",
    "data.shape"
   ]
  },
  {
   "cell_type": "code",
   "execution_count": null,
   "metadata": {},
   "outputs": [],
   "source": [
    "#Vemos qué tipos de datos tienen los campos\n",
    "data.dtypes"
   ]
  },
  {
   "cell_type": "code",
   "execution_count": null,
   "metadata": {},
   "outputs": [],
   "source": [
    "#renombramos la columba \"Unnamed 0\"\n",
    "data.rename(columns={'Unnamed: 0': \"Index\"}, inplace=True)\n",
    "data.head(3)"
   ]
  },
  {
   "cell_type": "markdown",
   "metadata": {},
   "source": [
    "#### Calculos de cantidad de nulos ####"
   ]
  },
  {
   "cell_type": "code",
   "execution_count": null,
   "metadata": {},
   "outputs": [],
   "source": [
    "#Calculamos cantidad de nulos por campo\n",
    "cant_nulos_por_campo = data.isnull().sum()\n",
    "cant_nulos_por_campo"
   ]
  },
  {
   "cell_type": "code",
   "execution_count": null,
   "metadata": {},
   "outputs": [],
   "source": [
    "#Calculamos porcentaje de nulos por campo\n",
    "cant_registros = data.shape[0]\n",
    "#print(cant_registros)\n",
    "#len(data.index) es lo mismo\n",
    "\n",
    "porc_nulos_por_campo = np.round((100 * cant_nulos_por_campo / cant_registros),2)\n",
    "print(porc_nulos_por_campo)"
   ]
  },
  {
   "cell_type": "markdown",
   "metadata": {},
   "source": [
    "#### Observamos la distribución de distintos campos que pueden aportar al analisis ####"
   ]
  },
  {
   "cell_type": "code",
   "execution_count": null,
   "metadata": {},
   "outputs": [],
   "source": [
    "#Observamos distribucion de elementos en campo property_type y en el campo operation\n",
    "property_type_count = data.property_type.value_counts()\n",
    "property_type_count\n",
    "\n",
    "property_operation_count = data.operation.value_counts()\n",
    "property_operation_count"
   ]
  },
  {
   "cell_type": "code",
   "execution_count": null,
   "metadata": {},
   "outputs": [],
   "source": [
    "#Observamos que todos los registros corresponden a Argentina\n",
    "country_name_count = data.country_name.value_counts()\n",
    "country_name_count\n",
    "\n",
    "#Todos los valores de la columna country_name son Argentina \n",
    "#de la columna place_with_parents_name se puede reemplazar Argentina por string vacio\n",
    "\n",
    "len(data.place_with_parent_names.index)\n",
    "# data.place_with_parent_names.sample(30)"
   ]
  },
  {
   "cell_type": "markdown",
   "metadata": {},
   "source": [
    "### Distribucion del tipo de moneda ###"
   ]
  },
  {
   "cell_type": "code",
   "execution_count": null,
   "metadata": {},
   "outputs": [],
   "source": [
    "data.currency.value_counts()"
   ]
  },
  {
   "cell_type": "code",
   "execution_count": null,
   "metadata": {},
   "outputs": [],
   "source": [
    "# Creo una mask para traer esos valores.\n",
    "currency_PEN_mask = data.currency == 'PEN'\n",
    "data.loc[currency_PEN_mask, :]"
   ]
  },
  {
   "cell_type": "code",
   "execution_count": null,
   "metadata": {},
   "outputs": [],
   "source": [
    "# Creo una mask para traer esos valores.\n",
    "currency_UYU_mask = data.currency == 'UYU'\n",
    "data.loc[currency_UYU_mask, :]"
   ]
  },
  {
   "cell_type": "markdown",
   "metadata": {},
   "source": [
    "#### Visto que no se puede garantizar que estos datos estén cargados correctamente y son solo tres registros en todo el data set, se toma la decision de eliminarlos ####\n",
    "Chequear que este codigo para dropear esté correcto! "
   ]
  },
  {
   "cell_type": "code",
   "execution_count": null,
   "metadata": {},
   "outputs": [],
   "source": [
    "# data.drop(data.loc[currency_PEN_mask].index, inplace = True)\n",
    "# data.drop(data.loc[currency_UYU_mask].index, inplace = True)"
   ]
  },
  {
   "cell_type": "markdown",
   "metadata": {},
   "source": [
    "### 3. Distribucion por provincia ###\n",
    "**Nota**: aqui modifico lo que hizo Ignacio porque no creo todavia un dataframe nuevo"
   ]
  },
  {
   "cell_type": "code",
   "execution_count": null,
   "metadata": {},
   "outputs": [],
   "source": [
    "data.state_name.value_counts()"
   ]
  },
  {
   "cell_type": "code",
   "execution_count": null,
   "metadata": {},
   "outputs": [],
   "source": [
    "# data_precio.place_name.value_counts()"
   ]
  },
  {
   "cell_type": "markdown",
   "metadata": {},
   "source": [
    "### calcular cantidad de nulos por campo por grupo? ###"
   ]
  },
  {
   "cell_type": "markdown",
   "metadata": {},
   "source": [
    "### 4.5.6. Limpieza de datos de los barrios de caba y counts ###\n",
    "Haremos un analisis de Capital Federal unicamente, ya que es un grupo que se distingue del resto por la cantidad y tipo de datos (en **place_with_parent_name**)"
   ]
  },
  {
   "cell_type": "markdown",
   "metadata": {},
   "source": [
    "#### Generamos un nuevo data frame solo con los datos de CABA ####"
   ]
  },
  {
   "cell_type": "code",
   "execution_count": null,
   "metadata": {},
   "outputs": [],
   "source": [
    "data_caba_mask = data.state_name == 'Capital Federal'\n",
    "\n",
    "data_caba = data.loc[data_caba_mask, :]\n",
    "\n",
    "data_caba"
   ]
  },
  {
   "cell_type": "markdown",
   "metadata": {},
   "source": [
    "Reseteamos el index del nuevo data_frame"
   ]
  },
  {
   "cell_type": "code",
   "execution_count": null,
   "metadata": {},
   "outputs": [],
   "source": [
    "data_caba.reset_index()\n"
   ]
  },
  {
   "cell_type": "markdown",
   "metadata": {},
   "source": [
    "#### Vemos la distribucion por barrio ####"
   ]
  },
  {
   "cell_type": "code",
   "execution_count": null,
   "metadata": {},
   "outputs": [],
   "source": [
    "data_caba.place_name.value_counts()"
   ]
  },
  {
   "cell_type": "code",
   "execution_count": null,
   "metadata": {},
   "outputs": [],
   "source": [
    "# print(precios_caba.count() / precios_caba.shape[0]) \n",
    "print('% de valores incompletos por columna:')\n",
    "print(f'{round(data_caba.isnull().sum()/data_caba.count(),2)}')\n",
    "print(' Cantidad de valores incompletos por columna:')\n",
    "print(data_caba.isnull().sum())"
   ]
  },
  {
   "cell_type": "markdown",
   "metadata": {},
   "source": [
    "#### Limpiar el campo **place_with_parent_name** ####"
   ]
  },
  {
   "cell_type": "markdown",
   "metadata": {},
   "source": [
    "1. Eliminar \"Argentina\" y \"|\" de los strings"
   ]
  },
  {
   "cell_type": "code",
   "execution_count": null,
   "metadata": {},
   "outputs": [],
   "source": [
    "#Creo una serie sobre la columna para trabajarla\n",
    "serie_place_with_parent_names = data_caba.place_with_parent_names\n",
    "serie_place_with_parent_names"
   ]
  },
  {
   "cell_type": "code",
   "execution_count": null,
   "metadata": {},
   "outputs": [],
   "source": [
    "#Primero sacamos el string el pais\n",
    "pattern_arg = '^\\|Argentina\\|'\n",
    "#RE busca |Argentina al comienzo del string\n",
    "pattern_arg_regex = re.compile(pattern_arg)\n",
    "#creo una variable nueva para hacer el apply y reemplazo \"|Argentina\" por string vacio \n",
    "place_parent_name_no_arg = serie_place_with_parent_names.apply(lambda x: pattern_arg_regex.sub(\"\", x))\n",
    "\n",
    "#chequeo los valores que quedaron\n",
    "place_parent_name_no_arg.head()"
   ]
  },
  {
   "cell_type": "code",
   "execution_count": null,
   "metadata": {},
   "outputs": [],
   "source": [
    "#Elimino los pipes innecesarios\n",
    "pattern_pipe_final = '\\|$'\n",
    "#RE busca | al final del string\n",
    "regex_pipe_final = re.compile(pattern_pipe_final)\n",
    "#Reemplazo el pipe por string vacio así despues puedo splitear la cadena\n",
    "place_parent_final = place_parent_name_no_arg.apply(lambda x: regex_pipe_final.sub(\"\", x))\n",
    "place_parent_final"
   ]
  },
  {
   "cell_type": "markdown",
   "metadata": {},
   "source": [
    "2. Splitear la cadena para obtener una lista"
   ]
  },
  {
   "cell_type": "code",
   "execution_count": null,
   "metadata": {},
   "outputs": [],
   "source": [
    "serie_list_place_split = place_parent_final.apply(lambda x: x.split(\"|\"))\n",
    "serie_list_place_split.head(10)\n",
    "# type(serie_list_place_split)"
   ]
  },
  {
   "cell_type": "code",
   "execution_count": null,
   "metadata": {},
   "outputs": [],
   "source": [
    "#Evaluo las longitudes de las listas que me quedaron en la serie\n",
    "serie_len = serie_list_place_split.apply(len)\n",
    "serie_len.value_counts()\n",
    "# serie_len.values"
   ]
  },
  {
   "cell_type": "markdown",
   "metadata": {},
   "source": [
    "Vemos que hay valores en esa serie que tienen un solo elemento, los miramos para ver si sirven al análisis"
   ]
  },
  {
   "cell_type": "code",
   "execution_count": null,
   "metadata": {},
   "outputs": [],
   "source": [
    "#hacemos una mascara e indexamos la lista a traves de una lamba que compara la longitud de cada elemento\n",
    "mask_len_1 = serie_list_place_split.apply(lambda x: len(x) == 1)\n",
    "serie_list_place_split.loc[mask_len_1]"
   ]
  },
  {
   "cell_type": "code",
   "execution_count": null,
   "metadata": {},
   "outputs": [],
   "source": [
    "# indexamos la lista para que nos devuelva los valores con 1 elementos distinto a 'Capital Federal'\n",
    "mask_len_1_not_caba = serie_list_place_split.apply(lambda x: (len(x) == 1) & (x[0] != 'Capital Federal'))\n",
    "serie_list_place_split[mask_len_1_not_caba]"
   ]
  },
  {
   "cell_type": "markdown",
   "metadata": {},
   "source": [
    "Observamos que no todos estos elementos contienen la especificidad del **Barrio** que es necesaria para hacer los calculos de mt2 por barrio \n",
    "### dropeamos esos registros ###"
   ]
  },
  {
   "cell_type": "code",
   "execution_count": null,
   "metadata": {},
   "outputs": [],
   "source": [
    "# place_clean = serie_list_place_split.drop\n",
    "# place_clean\n",
    "\n",
    "\n",
    "#RECORDAR CAMBIAR LOS OBJETOS EN LOS QUE SIGUE"
   ]
  },
  {
   "cell_type": "markdown",
   "metadata": {},
   "source": [
    "3. Obtengo dos series de barrio y sub_barrio"
   ]
  },
  {
   "cell_type": "code",
   "execution_count": null,
   "metadata": {},
   "outputs": [],
   "source": [
    "#funciones para extraer el elemento que me interesa de cada lista según la posicion\n",
    "#también considero la opcion de Capital Federal, donde la logica es distinta\n",
    "\n",
    "def get_sub_barrio(x):\n",
    "    return x[2] if len(x) == 3 else np.NaN\n",
    "        \n",
    "def get_barrio(x):\n",
    "    return x[1] if (len(x) == 3 or len(x) == 2) else np.NaN\n",
    "\n",
    "# def get_provincia(x):\n",
    "#     return np.NaN if len(x) == 1 else x[0]"
   ]
  },
  {
   "cell_type": "code",
   "execution_count": null,
   "metadata": {},
   "outputs": [],
   "source": [
    "serie_sub_barrio = serie_list_place_split.apply(get_sub_barrio)\n",
    "\n",
    "serie_barrio = serie_list_place_split.apply(get_barrio)\n",
    "\n",
    "# serie_provincia = serie_lista_place_split.apply(get_provincia)"
   ]
  },
  {
   "cell_type": "code",
   "execution_count": null,
   "metadata": {},
   "outputs": [],
   "source": [
    "barrio_count = serie_barrio.value_counts()\n",
    "barrio_count.sort_index()"
   ]
  },
  {
   "cell_type": "markdown",
   "metadata": {},
   "source": [
    "### 7. Armamos un nuevo DF con CABA y los datos de los barrios sacando las columnas que no necesitamos ###"
   ]
  },
  {
   "cell_type": "code",
   "execution_count": null,
   "metadata": {},
   "outputs": [],
   "source": [
    "#armo un df nuevo para ver cómo quedó la separación\n",
    "frame = {'Barrio': serie_barrio, 'Sub_Barrio': serie_sub_barrio}  \n",
    "caba_place_names = pd.DataFrame(frame) \n",
    "\n",
    "data_caba_barrios = pd.concat([data_caba, caba_place_names], axis=1, sort=False)\n",
    "data_caba_barrios.head(3)\n",
    "\n",
    "#falta hacer filtro de columnas que no sirven"
   ]
  },
  {
   "cell_type": "markdown",
   "metadata": {},
   "source": [
    "### 8. Chequear tasa de cambio de dolares a pesos con las respectivas pruebas de que este ok calculo ###\n",
    "### 9. Creacion de columna de precio en dolares ### "
   ]
  },
  {
   "cell_type": "code",
   "execution_count": null,
   "metadata": {},
   "outputs": [],
   "source": [
    "data_caba_barrios['usdtolocal'] = data_caba_barrios.price_aprox_local_currency / data_caba_barrios.price_aprox_usd\n",
    "cambio_usd_max = data_caba_barrios.usdtolocal.max()\n",
    "cambio_usd_min = data_caba_barrios.usdtolocal.min()\n",
    "\n",
    "print(data_caba_barrios.sample(3))\n",
    "\n",
    "# Verifico si en el calculo el valor max y min son iguales.\n",
    "print(round(cambio_usd_max, 2))\n",
    "print(round(cambio_usd_min, 2))\n",
    "\n",
    "check_change = round(data_caba.usdtolocal, 2) == round(cambio_usd_max, 2)\n",
    "\n",
    "print(f'Son todos igual a {round(cambio_usd_max, 2)}: {all(check_change)}')\n",
    "\n",
    "print(f'Hay valores que son NaN?: {any(data_caba_barrios.usdtolocal.isnull())}')"
   ]
  },
  {
   "cell_type": "markdown",
   "metadata": {},
   "source": [
    "Revisando tenemos Price y Price_aprox_usd que parecen ser lo mismo ¿? vamos a tratar de compararlos."
   ]
  },
  {
   "cell_type": "code",
   "execution_count": null,
   "metadata": {},
   "outputs": [],
   "source": [
    "# revisar price contra price_aprox_usd\n",
    "check_prices_usd = data_caba_barrios.price == data_caba_barrios.price_aprox_usd\n",
    "print(f'El valor de price es igual a price_aprox_usd?: {all(check_prices_usd)}')\n",
    "print(f'Hay precios con campos NaN? : {any(data_caba_barrios.price.isnull())}') # Hay precios que son Nulos."
   ]
  },
  {
   "cell_type": "markdown",
   "metadata": {},
   "source": [
    "Con esto detectamos que el precio y precio aproximado parecen no ser lo mismo tampoco."
   ]
  },
  {
   "cell_type": "code",
   "execution_count": null,
   "metadata": {},
   "outputs": [],
   "source": [
    "#creamos una columna con el valor en dolares en funcion de price\n",
    "data_caba_barrios['price_usd']= round(data_caba_barrios.apply(lambda x: x['price']  if x['currency'] == 'USD' else (x['price'] * x['usdtolocal'] if x['currency'] == 'ARS' else np.NaN), axis=1),2)\n",
    "data_caba_barrios.sample(10)"
   ]
  },
  {
   "cell_type": "markdown",
   "metadata": {},
   "source": [
    "Se puede observar que falta completar el **price_per_m2** en la moneda local. Pero!! se puede calcular en dolares la superficie cubierta porque tenemos el precio en USD por m2, **dividiendo el valor por el precio por metro cuadrado, obtendriamos el dato surface_covered_in_m2**"
   ]
  },
  {
   "cell_type": "markdown",
   "metadata": {},
   "source": [
    "### 10. Chequeamos cantidad de nulos y dropeamos segun el umbral ###"
   ]
  },
  {
   "cell_type": "code",
   "execution_count": null,
   "metadata": {},
   "outputs": [],
   "source": [
    "# print(precios_caba.count() / precios_caba.shape[0]) \n",
    "print('% de valores incompletos por columna:')\n",
    "print(f'{round(data_caba_barrios.isnull().sum()/data_caba_barrios.count(),2)}')\n",
    "print(' de valores incompletos por columna:')\n",
    "print(data_caba_barrios.isnull().sum())"
   ]
  },
  {
   "cell_type": "code",
   "execution_count": null,
   "metadata": {},
   "outputs": [],
   "source": [
    "# De los registros de CABA a cuantos les falta más de 10 datos por fila\n",
    "\n",
    "precios_caba_mas10_mask = data_caba_barrios.isnull().sum(axis=1) > 9 \n",
    "\n",
    "print(data_caba_barrios.loc[precios_caba_mas10_mask, :])\n",
    "\n",
    "# Se puede observar que de estos datos no tenemos tanta información como para incluir y los podemos eliminar del set de datos!!\n",
    "# Existe Palermo Chico ??  no tiene geonames_id ??\n",
    "\n",
    "# En el caso de optar por eliminar podemos usar: \n",
    "# umbral = 9\n",
    "# precios_caba_clean1 = data_caba.dropna(axis = 0, thresh=umbral)"
   ]
  },
  {
   "cell_type": "markdown",
   "metadata": {},
   "source": [
    "<strong>Verifico Palermo Chico lo elimiaría si no puedo calcular el precio por metro cuadrado!! Ya que no aportan mucha información!</strong>\n",
    "<strong>Se puede mejorar con algun grafico?<strong>"
   ]
  },
  {
   "cell_type": "code",
   "execution_count": null,
   "metadata": {},
   "outputs": [],
   "source": [
    "data_caba_geo_mask = data_caba_barrios.geonames_id.isnull()\n",
    "\n",
    "data_caba_geo = data_caba_barrios.loc[data_caba_geo_mask, :]\n",
    "\n",
    "data_caba_geo.head()\n",
    "\n",
    "# Parece que se puede completar sin problemas, aunque no veo el sentido. "
   ]
  },
  {
   "cell_type": "code",
   "execution_count": null,
   "metadata": {},
   "outputs": [],
   "source": [
    "precios_caba_place_mask = data_caba_barrios.place_name == 'Las Cañitas'\n",
    "precios_caba_las_cañitas = data_caba_barrios.loc[precios_caba_place_mask, :]\n",
    "\n",
    "precios_caba_las_cañitas.geonames_id.isnull().sum() / precios_caba_las_cañitas.shape[0]\n",
    "\n",
    "# Lo que me dice que esta locación no tiene geonames_id !! revisar si se puede analizar automaticamente para el resto.\n",
    "# Las Cañitas es la denominación informal y no oficial de un sector de unas 20 manzanas dentro del barrio de Palermo en la Ciudad Autónoma de Buenos Aires."
   ]
  },
  {
   "cell_type": "markdown",
   "metadata": {},
   "source": [
    "### 11. Tipo de moneda. Quedo como parte del punto 2 #"
   ]
  },
  {
   "cell_type": "markdown",
   "metadata": {},
   "source": [
    "### 12. Agrupar por barrio y describe() por mt2 ### "
   ]
  },
  {
   "cell_type": "code",
   "execution_count": null,
   "metadata": {},
   "outputs": [],
   "source": [
    "barrio_group = data_caba_barrios.groupby('Barrio')"
   ]
  },
  {
   "cell_type": "code",
   "execution_count": null,
   "metadata": {},
   "outputs": [],
   "source": [
    "barrio_group.price_per_m2.describe()"
   ]
  },
  {
   "cell_type": "markdown",
   "metadata": {},
   "source": [
    "### 13. Box plot para ver outliers de los barrios y eliminar o ajustar antes de imputar datos ###"
   ]
  },
  {
   "cell_type": "code",
   "execution_count": null,
   "metadata": {},
   "outputs": [],
   "source": [
    "#Ver cuales outliers de cada barrio y analizar el desvio ANTES de impurtar los mt2 promedio por barrio"
   ]
  },
  {
   "cell_type": "markdown",
   "metadata": {},
   "source": [
    "### 14. Imputacion de datos faltantes ### Tomar una decision"
   ]
  },
  {
   "cell_type": "code",
   "execution_count": null,
   "metadata": {},
   "outputs": [],
   "source": [
    "# Analicemos este unico registro. \n",
    "data_caba_barrios.loc[44469]\n",
    "\n",
    "# Encontramos que no tiene el precio_usd_per_m2, y se puede calcular...de dos maneras:\n",
    "\n",
    "# 1. price_usd / surface_covered_in_m2\n",
    "\n",
    "# Al parecer cuando es un departamente no tiene surface_total_in_m2 !!"
   ]
  },
  {
   "cell_type": "code",
   "execution_count": null,
   "metadata": {},
   "outputs": [],
   "source": [
    "# Calculo el valor del metro cuadrado para esta propiedad...\n",
    "\n",
    "round(data_caba_barrios.loc[44469].price_usd / data_caba_barrios.loc[44469].surface_covered_in_m2, 2)\n",
    "\n",
    "# Me da el mismo valor de price_per_m2 que debería estar el pesos! no en USD."
   ]
  },
  {
   "cell_type": "code",
   "execution_count": null,
   "metadata": {},
   "outputs": [],
   "source": [
    "# Contar todos los elementos de CABA que no tiene price_usd_per_m2\n",
    "\n",
    "price_usd_per_m2_mask = data_caba_barrios.price_usd_per_m2.isnull()\n",
    "print(price_usd_per_m2_mask.loc[44469]) # Verifico que la funcion de True para el valor que tengo.\n",
    "price_usd_per_m2_isnan = data_caba_barrios.loc[price_usd_per_m2_mask, :]\n",
    "\n",
    "# print(price_usd_per_m2_mask)\n",
    "print(price_usd_per_m2_mask.value_counts()) # Me deberia dar 0 \n",
    "print(f'{round(price_usd_per_m2_mask.sum() / data_caba_barrios.shape[0], 2)} % de valores con NaN')\n",
    "\n",
    "# De esto ultimo se desprende que tenemos 27% de datos donde falta el valor de precio_usd_per_m2\n",
    "\n",
    "price_usd_per_m2_isnan.sample(10)"
   ]
  },
  {
   "cell_type": "markdown",
   "metadata": {},
   "source": [
    "Entonces ahora trato de reemplazar los valores faltantes operando con los datos que tengo."
   ]
  },
  {
   "cell_type": "code",
   "execution_count": null,
   "metadata": {},
   "outputs": [],
   "source": [
    "data_caba_barrios.price_usd_per_m2 = data_caba_barrios.price_usd_per_m2.replace(np.NaN, data_caba_barrios.price_usd / data_caba_barrios.surface_covered_in_m2)\n",
    "\n",
    "# Investigar el error de abajo, y este proceso demora mucho tiempo."
   ]
  },
  {
   "cell_type": "markdown",
   "metadata": {},
   "source": [
    "#### Calcular precio promedio por barrio ####"
   ]
  },
  {
   "cell_type": "code",
   "execution_count": null,
   "metadata": {},
   "outputs": [],
   "source": [
    "# precios_caba.price_per_m2 = precios_caba.price_per_m2.replace(precios_caba.groupby('place_name').price_per_m2.transform(lambda x: x.fillna(x.mean())))\n",
    "# print(precios_caba.price_per_m2.replace(precios_caba.groupby('place_name').price_per_m2.transform(lambda x: x.fillna(x.mean()))))\n",
    "\n",
    "# precios_caba.price_per_m2 = precios_caba.groupby('place_name').price_per_m2.transform(lambda x: x.fillna(x.mean()))\n",
    "# precios_caba.isnull().sum() \n",
    "\n",
    "#Parece que funciono!!!!"
   ]
  },
  {
   "cell_type": "markdown",
   "metadata": {},
   "source": [
    "### 15. Describe() de los grupos nuevamente para ver como quedaron los datos estadisticos"
   ]
  },
  {
   "cell_type": "markdown",
   "metadata": {},
   "source": [
    "### 16. Analisis del campo **description** para sacar cantidad de ambientes y amenities (si es posible) ###"
   ]
  },
  {
   "cell_type": "code",
   "execution_count": null,
   "metadata": {},
   "outputs": [],
   "source": [
    "description_series = data_caba_barrios['description']\n",
    "description_series.sample(10)\n"
   ]
  },
  {
   "cell_type": "markdown",
   "metadata": {},
   "source": [
    "#### Sacamos cantidad de ambientes a traves de expresiones regulares ####"
   ]
  },
  {
   "cell_type": "code",
   "execution_count": null,
   "metadata": {},
   "outputs": [],
   "source": [
    "amb1_pattern = \"((?P<numero_amb>\\d)(\\s)?(amb|AMB))\"\n",
    "amb1_pattern_regex = re.compile(amb1_pattern)"
   ]
  },
  {
   "cell_type": "code",
   "execution_count": null,
   "metadata": {},
   "outputs": [],
   "source": [
    "amb1_match = description_series.apply(lambda x: x if (x is np.NaN) | (x is None) else\\\n",
    "                                      amb1_pattern_regex.search(x))\n",
    "mask_amb1_match_notnull = amb1_match.notnull()\n",
    "\n",
    "data_caba_barrios.loc[mask_amb1_match_notnull, 'number_rooms'] = \\\n",
    "amb1_match[mask_amb1_match_notnull].apply(lambda x: x.group(\"numero_amb\"))"
   ]
  },
  {
   "cell_type": "code",
   "execution_count": null,
   "metadata": {},
   "outputs": [],
   "source": [
    "data_caba_barrios['number_rooms'].sample(15)"
   ]
  },
  {
   "cell_type": "code",
   "execution_count": null,
   "metadata": {},
   "outputs": [],
   "source": [
    "data_caba_barrios['number_rooms'].dtypes\n",
    "data_caba_barrios['number_rooms'].notnull().sum()"
   ]
  },
  {
   "cell_type": "code",
   "execution_count": null,
   "metadata": {},
   "outputs": [],
   "source": [
    "dorm1_pattern = \"((?P<numero_dorm>\\d)(\\s)?(dorm|DORM))\"\n",
    "dorm1_pattern_regex = re.compile(dorm1_pattern)"
   ]
  },
  {
   "cell_type": "code",
   "execution_count": null,
   "metadata": {},
   "outputs": [],
   "source": [
    "dorm1_match = description_series.apply(lambda x: x if (x is np.NaN) | (x is None) else dorm1_pattern_regex.search(x))\n",
    "\n",
    "mask_dorm1_match_notnull = dorm1_match.notnull()\n",
    "\n",
    "data_caba_barrios.loc[mask_dorm1_match_notnull, 'number_rooms'] = dorm1_match[mask_dorm1_match_notnull].apply(lambda x: x.group(\"numero_dorm\"))\n",
    "#se asume que el numero de ambientes es numero_dorm +1 FALTA SUMAR UNO A ESE NUMERO (ver ejemplo de century en Clase 5)"
   ]
  },
  {
   "cell_type": "code",
   "execution_count": null,
   "metadata": {},
   "outputs": [],
   "source": [
    "data_caba_barrios['number_rooms'].head(15)\n"
   ]
  },
  {
   "cell_type": "code",
   "execution_count": null,
   "metadata": {},
   "outputs": [],
   "source": [
    "data_caba_barrios['number_rooms'].notnull().sum()"
   ]
  },
  {
   "cell_type": "code",
   "metadata": {},
   "source": [
    "#Falta Ambiente unico, mono(\\s)?ambiente, 1 y 1/2 amb / dos/tres/cuatro/cinco ([a-zA-Z]*)? dormi\n",
    "\n",
    "#PISOS: \\d piso, planta baja, PH = planta baja, \\der\\spiso, con palabras?\n",
    "\n",
    "Amemities (pileta/piscina, SUM, laundry/lavadero, cochera/garage, Gimnasio/gym, seguridad)"
   ]
  },
  {
   "cell_type": "markdown",
   "metadata": {},
   "source": [
    "### 17. Convertir en dummies los valores del campo descripcion y tipo de propiedad ###\n"
   ]
  },
  {
   "cell_type": "markdown",
   "metadata": {},
   "source": [
    "### 18. Grafico de distribucion con geolocalizacion / cantidad de ventas por barrio segun tipo de propiedad ###"
   ]
  },
  {
   "cell_type": "code",
   "execution_count": null,
   "metadata": {},
   "outputs": [],
   "source": []
  }
 ],
 "metadata": {
  "kernelspec": {
   "display_name": "Python 3",
   "language": "python",
   "name": "python3"
  },
  "language_info": {
   "codemirror_mode": {
    "name": "ipython",
    "version": 3
   },
   "file_extension": ".py",
   "mimetype": "text/x-python",
   "name": "python",
   "nbconvert_exporter": "python",
   "pygments_lexer": "ipython3",
   "version": "3.8.3"
  }
 },
 "nbformat": 4,
 "nbformat_minor": 4
}
