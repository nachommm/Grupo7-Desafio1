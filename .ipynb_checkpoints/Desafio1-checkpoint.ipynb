{
 "cells": [
  {
   "cell_type": "markdown",
   "metadata": {},
   "source": [
    "<h1>Desarrollo del Desafio 1</h1>\n",
    "\n",
    "<p>La inmobiliaria Properati publica periódicamente información sobre ofertas de propiedades para venta y alquiler. Ud. deberá asesorar a la inmobiliaria a desarrollar un modelo de regresión que permita predecir el precio por metro cuadrado de una propiedad. El objetivo             \n",
    "final es que el modelo que desarrollen sea utilizado como tasador automático a ser aplicados a las próximas propiedades que sean comercializadas por la empresa. Para ello la empresa le provee de un dataset correspondiente al primer semestre de 2017.</p>\n",
    "\n",
    "El dataset es de tamaño entre pequeño y mediano, pero tiene dos complejidades a las que deberá prestarle atención:\n",
    " \n",
    "<ul>\n",
    "    <li>Peso de missing data en algunas variables relevantes.</li>\n",
    "    <li>Será importante tener en cuenta el problema de la influencia espacial en los precios por metro cuadrado. En efecto, es probable que existan diferencias importantes de en las diferentes geografías, barrios y zonas analizadas.</li>\n",
    "</ul>\n",
    "\n",
    "<h2>Objetivos:</h2>\n",
    "\n",
    "<ul>\n",
    "    <li>Efectuar una limpieza del dataset provisto. Particularmente, deberá diseñar estrategias para lidiar con los datos perdidos en ciertas variables.</li>\n",
    "    <li>Realizar un análisis descriptivo de las principales variables.</li>\n",
    "    <li>Crear nuevas columnas a partir de las características dadas que puedan tener valor predictivo.</li>\n",
    "</ul>\n",
    "\n",
    "<h2>Paso a paso:</h2>\n",
    "\n",
    "1. AED Análisis exploratorio (para hacer/mirar este finde): ver qué tipo de datos tiene el dataset, qué datos numéricos/texto hay y cualquier cosa que se nos ocurra que podamos resaltar. La columna de descripción quizás tenga los amenities. Sacar cantidad de datos nulos y porcentaje\n",
    "1. Limpieza: separar las columnas de lugar, verificar que las columnas de precio tengan los tipos correctos, columnas de lat-lon, sacar caracteres especiales de las columnas de texto, sacar signos de monedas, RE para columna de descripción\n",
    "1. Verificar si hay datos duplicados (qué columnas tomamos en cuenta para esto, hay algún ID?)\n",
    "1. Datos faltantes: tomar decisiones sobre qué recomponer y qué registros eliminar\n",
    "1. a) Agrupar y sacar estadísticas: por barrio, por provincia, por m2, qué correlaciones hay entre las variables, qué variables nuevas se pueden sacar o agregar (cotización, por ejemplo)\n",
    "  b) Es necesario crear variables dummies? (para rent/sell, para tipo de propiedad)\n",
    "1.  Visualización: elegir gráficos que ilustren los datos "
   ]
  },
  {
   "cell_type": "markdown",
   "metadata": {},
   "source": [
    "<h3>Importar las librerias que estaremos utilizando.</h3>"
   ]
  },
  {
   "cell_type": "code",
   "execution_count": 27,
   "metadata": {},
   "outputs": [],
   "source": [
    "import numpy as np\n",
    "import pandas as pd\n",
    "import chardet\n",
    "import re"
   ]
  },
  {
   "cell_type": "code",
   "execution_count": null,
   "metadata": {},
   "outputs": [],
   "source": [
    "# Funcion especial para autodetectar el encoding. La eliminamos porque demora mucho!!!\n",
    "# def get_encoding_type(csv_path):\n",
    "#     rawdata = open(csv_path, 'rb').read()\n",
    "#     result = chardet.detect(rawdata)\n",
    "#     return result.get('encoding')"
   ]
  },
  {
   "cell_type": "code",
   "execution_count": null,
   "metadata": {},
   "outputs": [],
   "source": [
    "#Se define la ruta de la información.\n",
    "data_propiedades = \"../Data/properati.csv\""
   ]
  },
  {
   "cell_type": "code",
   "execution_count": null,
   "metadata": {},
   "outputs": [],
   "source": [
    "#Leemos los datos del archivo\n",
    "data = pd.read_csv(data_propiedades, sep=\",\", encoding=\"UTF-8\")"
   ]
  },
  {
   "cell_type": "code",
   "execution_count": 21,
   "metadata": {},
   "outputs": [
    {
     "data": {
      "text/html": [
       "<div>\n",
       "<style scoped>\n",
       "    .dataframe tbody tr th:only-of-type {\n",
       "        vertical-align: middle;\n",
       "    }\n",
       "\n",
       "    .dataframe tbody tr th {\n",
       "        vertical-align: top;\n",
       "    }\n",
       "\n",
       "    .dataframe thead th {\n",
       "        text-align: right;\n",
       "    }\n",
       "</style>\n",
       "<table border=\"1\" class=\"dataframe\">\n",
       "  <thead>\n",
       "    <tr style=\"text-align: right;\">\n",
       "      <th></th>\n",
       "      <th>Unnamed: 0</th>\n",
       "      <th>operation</th>\n",
       "      <th>property_type</th>\n",
       "      <th>place_name</th>\n",
       "      <th>place_with_parent_names</th>\n",
       "      <th>country_name</th>\n",
       "      <th>state_name</th>\n",
       "      <th>geonames_id</th>\n",
       "      <th>lat-lon</th>\n",
       "      <th>lat</th>\n",
       "      <th>...</th>\n",
       "      <th>surface_covered_in_m2</th>\n",
       "      <th>price_usd_per_m2</th>\n",
       "      <th>price_per_m2</th>\n",
       "      <th>floor</th>\n",
       "      <th>rooms</th>\n",
       "      <th>expenses</th>\n",
       "      <th>properati_url</th>\n",
       "      <th>description</th>\n",
       "      <th>title</th>\n",
       "      <th>image_thumbnail</th>\n",
       "    </tr>\n",
       "  </thead>\n",
       "  <tbody>\n",
       "    <tr>\n",
       "      <th>0</th>\n",
       "      <td>0</td>\n",
       "      <td>sell</td>\n",
       "      <td>PH</td>\n",
       "      <td>Mataderos</td>\n",
       "      <td>|Argentina|Capital Federal|Mataderos|</td>\n",
       "      <td>Argentina</td>\n",
       "      <td>Capital Federal</td>\n",
       "      <td>3430787.0</td>\n",
       "      <td>-34.6618237,-58.5088387</td>\n",
       "      <td>-34.661824</td>\n",
       "      <td>...</td>\n",
       "      <td>40.0</td>\n",
       "      <td>1127.272727</td>\n",
       "      <td>1550.000000</td>\n",
       "      <td>NaN</td>\n",
       "      <td>NaN</td>\n",
       "      <td>NaN</td>\n",
       "      <td>http://www.properati.com.ar/15bo8_venta_ph_mat...</td>\n",
       "      <td>2 AMBIENTES TIPO CASA PLANTA BAJA POR PASILLO,...</td>\n",
       "      <td>2 AMB TIPO CASA SIN EXPENSAS EN PB</td>\n",
       "      <td>https://thumbs4.properati.com/8/BluUYiHJLhgIIK...</td>\n",
       "    </tr>\n",
       "    <tr>\n",
       "      <th>1</th>\n",
       "      <td>1</td>\n",
       "      <td>sell</td>\n",
       "      <td>apartment</td>\n",
       "      <td>La Plata</td>\n",
       "      <td>|Argentina|Bs.As. G.B.A. Zona Sur|La Plata|</td>\n",
       "      <td>Argentina</td>\n",
       "      <td>Bs.As. G.B.A. Zona Sur</td>\n",
       "      <td>3432039.0</td>\n",
       "      <td>-34.9038831,-57.9643295</td>\n",
       "      <td>-34.903883</td>\n",
       "      <td>...</td>\n",
       "      <td>NaN</td>\n",
       "      <td>NaN</td>\n",
       "      <td>NaN</td>\n",
       "      <td>NaN</td>\n",
       "      <td>NaN</td>\n",
       "      <td>NaN</td>\n",
       "      <td>http://www.properati.com.ar/15bob_venta_depart...</td>\n",
       "      <td>Venta de departamento en décimo piso al frente...</td>\n",
       "      <td>VENTA Depto 2 dorm. a estrenar 7 e/ 36 y 37   ...</td>\n",
       "      <td>https://thumbs4.properati.com/7/ikpVBu2ztHA7jv...</td>\n",
       "    </tr>\n",
       "    <tr>\n",
       "      <th>2</th>\n",
       "      <td>2</td>\n",
       "      <td>sell</td>\n",
       "      <td>apartment</td>\n",
       "      <td>Mataderos</td>\n",
       "      <td>|Argentina|Capital Federal|Mataderos|</td>\n",
       "      <td>Argentina</td>\n",
       "      <td>Capital Federal</td>\n",
       "      <td>3430787.0</td>\n",
       "      <td>-34.6522615,-58.5229825</td>\n",
       "      <td>-34.652262</td>\n",
       "      <td>...</td>\n",
       "      <td>55.0</td>\n",
       "      <td>1309.090909</td>\n",
       "      <td>1309.090909</td>\n",
       "      <td>NaN</td>\n",
       "      <td>NaN</td>\n",
       "      <td>NaN</td>\n",
       "      <td>http://www.properati.com.ar/15bod_venta_depart...</td>\n",
       "      <td>2 AMBIENTES 3ER PISO LATERAL LIVING COMEDOR AM...</td>\n",
       "      <td>2 AMB 3ER PISO CON ASCENSOR APTO CREDITO</td>\n",
       "      <td>https://thumbs4.properati.com/5/SXKr34F_IwG3W_...</td>\n",
       "    </tr>\n",
       "    <tr>\n",
       "      <th>3</th>\n",
       "      <td>3</td>\n",
       "      <td>sell</td>\n",
       "      <td>PH</td>\n",
       "      <td>Liniers</td>\n",
       "      <td>|Argentina|Capital Federal|Liniers|</td>\n",
       "      <td>Argentina</td>\n",
       "      <td>Capital Federal</td>\n",
       "      <td>3431333.0</td>\n",
       "      <td>-34.6477969,-58.5164244</td>\n",
       "      <td>-34.647797</td>\n",
       "      <td>...</td>\n",
       "      <td>NaN</td>\n",
       "      <td>NaN</td>\n",
       "      <td>NaN</td>\n",
       "      <td>NaN</td>\n",
       "      <td>NaN</td>\n",
       "      <td>NaN</td>\n",
       "      <td>http://www.properati.com.ar/15boh_venta_ph_lin...</td>\n",
       "      <td>PH 3 ambientes con patio. Hay 3 deptos en lote...</td>\n",
       "      <td>PH 3 amb. cfte. reciclado</td>\n",
       "      <td>https://thumbs4.properati.com/3/DgIfX-85Mog5SP...</td>\n",
       "    </tr>\n",
       "    <tr>\n",
       "      <th>4</th>\n",
       "      <td>4</td>\n",
       "      <td>sell</td>\n",
       "      <td>apartment</td>\n",
       "      <td>Centro</td>\n",
       "      <td>|Argentina|Buenos Aires Costa Atlántica|Mar de...</td>\n",
       "      <td>Argentina</td>\n",
       "      <td>Buenos Aires Costa Atlántica</td>\n",
       "      <td>3435548.0</td>\n",
       "      <td>-38.0026256,-57.5494468</td>\n",
       "      <td>-38.002626</td>\n",
       "      <td>...</td>\n",
       "      <td>35.0</td>\n",
       "      <td>1828.571429</td>\n",
       "      <td>1828.571429</td>\n",
       "      <td>NaN</td>\n",
       "      <td>NaN</td>\n",
       "      <td>NaN</td>\n",
       "      <td>http://www.properati.com.ar/15bok_venta_depart...</td>\n",
       "      <td>DEPARTAMENTO CON FANTÁSTICA ILUMINACIÓN NATURA...</td>\n",
       "      <td>DEPTO 2 AMB AL CONTRAFRENTE ZONA CENTRO/PLAZA ...</td>\n",
       "      <td>https://thumbs4.properati.com/5/xrRqlNcSI_vs-f...</td>\n",
       "    </tr>\n",
       "  </tbody>\n",
       "</table>\n",
       "<p>5 rows × 26 columns</p>\n",
       "</div>"
      ],
      "text/plain": [
       "   Unnamed: 0 operation property_type place_name  \\\n",
       "0           0      sell            PH  Mataderos   \n",
       "1           1      sell     apartment   La Plata   \n",
       "2           2      sell     apartment  Mataderos   \n",
       "3           3      sell            PH    Liniers   \n",
       "4           4      sell     apartment     Centro   \n",
       "\n",
       "                             place_with_parent_names country_name  \\\n",
       "0              |Argentina|Capital Federal|Mataderos|    Argentina   \n",
       "1        |Argentina|Bs.As. G.B.A. Zona Sur|La Plata|    Argentina   \n",
       "2              |Argentina|Capital Federal|Mataderos|    Argentina   \n",
       "3                |Argentina|Capital Federal|Liniers|    Argentina   \n",
       "4  |Argentina|Buenos Aires Costa Atlántica|Mar de...    Argentina   \n",
       "\n",
       "                     state_name  geonames_id                  lat-lon  \\\n",
       "0               Capital Federal    3430787.0  -34.6618237,-58.5088387   \n",
       "1        Bs.As. G.B.A. Zona Sur    3432039.0  -34.9038831,-57.9643295   \n",
       "2               Capital Federal    3430787.0  -34.6522615,-58.5229825   \n",
       "3               Capital Federal    3431333.0  -34.6477969,-58.5164244   \n",
       "4  Buenos Aires Costa Atlántica    3435548.0  -38.0026256,-57.5494468   \n",
       "\n",
       "         lat  ...  surface_covered_in_m2  price_usd_per_m2 price_per_m2  \\\n",
       "0 -34.661824  ...                   40.0       1127.272727  1550.000000   \n",
       "1 -34.903883  ...                    NaN               NaN          NaN   \n",
       "2 -34.652262  ...                   55.0       1309.090909  1309.090909   \n",
       "3 -34.647797  ...                    NaN               NaN          NaN   \n",
       "4 -38.002626  ...                   35.0       1828.571429  1828.571429   \n",
       "\n",
       "   floor  rooms  expenses                                      properati_url  \\\n",
       "0    NaN    NaN       NaN  http://www.properati.com.ar/15bo8_venta_ph_mat...   \n",
       "1    NaN    NaN       NaN  http://www.properati.com.ar/15bob_venta_depart...   \n",
       "2    NaN    NaN       NaN  http://www.properati.com.ar/15bod_venta_depart...   \n",
       "3    NaN    NaN       NaN  http://www.properati.com.ar/15boh_venta_ph_lin...   \n",
       "4    NaN    NaN       NaN  http://www.properati.com.ar/15bok_venta_depart...   \n",
       "\n",
       "                                         description  \\\n",
       "0  2 AMBIENTES TIPO CASA PLANTA BAJA POR PASILLO,...   \n",
       "1  Venta de departamento en décimo piso al frente...   \n",
       "2  2 AMBIENTES 3ER PISO LATERAL LIVING COMEDOR AM...   \n",
       "3  PH 3 ambientes con patio. Hay 3 deptos en lote...   \n",
       "4  DEPARTAMENTO CON FANTÁSTICA ILUMINACIÓN NATURA...   \n",
       "\n",
       "                                               title  \\\n",
       "0                 2 AMB TIPO CASA SIN EXPENSAS EN PB   \n",
       "1  VENTA Depto 2 dorm. a estrenar 7 e/ 36 y 37   ...   \n",
       "2           2 AMB 3ER PISO CON ASCENSOR APTO CREDITO   \n",
       "3                       PH 3 amb. cfte. reciclado      \n",
       "4  DEPTO 2 AMB AL CONTRAFRENTE ZONA CENTRO/PLAZA ...   \n",
       "\n",
       "                                     image_thumbnail  \n",
       "0  https://thumbs4.properati.com/8/BluUYiHJLhgIIK...  \n",
       "1  https://thumbs4.properati.com/7/ikpVBu2ztHA7jv...  \n",
       "2  https://thumbs4.properati.com/5/SXKr34F_IwG3W_...  \n",
       "3  https://thumbs4.properati.com/3/DgIfX-85Mog5SP...  \n",
       "4  https://thumbs4.properati.com/5/xrRqlNcSI_vs-f...  \n",
       "\n",
       "[5 rows x 26 columns]"
      ]
     },
     "execution_count": 21,
     "metadata": {},
     "output_type": "execute_result"
    }
   ],
   "source": [
    "#Chequeamos que los datos se hayan importado correctamente\n",
    "data.head()"
   ]
  },
  {
   "cell_type": "code",
   "execution_count": 30,
   "metadata": {},
   "outputs": [
    {
     "data": {
      "text/plain": [
       "(121220, 26)"
      ]
     },
     "execution_count": 30,
     "metadata": {},
     "output_type": "execute_result"
    }
   ],
   "source": [
    "#Chequeamos cantidad de registros y cantidad de variables\n",
    "data.shape"
   ]
  },
  {
   "cell_type": "code",
   "execution_count": 22,
   "metadata": {},
   "outputs": [
    {
     "data": {
      "text/plain": [
       "Unnamed: 0                      int64\n",
       "operation                      object\n",
       "property_type                  object\n",
       "place_name                     object\n",
       "place_with_parent_names        object\n",
       "country_name                   object\n",
       "state_name                     object\n",
       "geonames_id                   float64\n",
       "lat-lon                        object\n",
       "lat                           float64\n",
       "lon                           float64\n",
       "price                         float64\n",
       "currency                       object\n",
       "price_aprox_local_currency    float64\n",
       "price_aprox_usd               float64\n",
       "surface_total_in_m2           float64\n",
       "surface_covered_in_m2         float64\n",
       "price_usd_per_m2              float64\n",
       "price_per_m2                  float64\n",
       "floor                         float64\n",
       "rooms                         float64\n",
       "expenses                      float64\n",
       "properati_url                  object\n",
       "description                    object\n",
       "title                          object\n",
       "image_thumbnail                object\n",
       "dtype: object"
      ]
     },
     "execution_count": 22,
     "metadata": {},
     "output_type": "execute_result"
    }
   ],
   "source": [
    "#Vemos qué tipos de datos tienen los campos\n",
    "data.dtypes"
   ]
  },
  {
   "cell_type": "markdown",
   "metadata": {},
   "source": [
    "**Cantidad de nulos por columna**"
   ]
  },
  {
   "cell_type": "code",
   "execution_count": null,
   "metadata": {},
   "outputs": [],
   "source": [
    "#Cantidad de nulos por columna\n",
    "cant_nulos_por_campo = data.apply(lambda x: x.isnull().sum(), axis = 0)\n",
    "print(cant_nulos_por_campo)"
   ]
  },
  {
   "cell_type": "markdown",
   "metadata": {},
   "source": [
    "**Porcentaje de nulos por columna**"
   ]
  },
  {
   "cell_type": "code",
   "execution_count": null,
   "metadata": {},
   "outputs": [],
   "source": [
    "cant_registros = data.shape[0]\n",
    "#print(cant_registros)\n",
    "#len(data.index) es lo mismo\n",
    "\n",
    "porc_nulos_por_campo = 100 * cant_nulos_por_campo / cant_registros\n",
    "print(porc_nulos_por_campo)"
   ]
  },
  {
   "cell_type": "markdown",
   "metadata": {},
   "source": [
    "**Algunos datos que pueden servir para la limpieza**"
   ]
  },
  {
   "cell_type": "code",
   "execution_count": null,
   "metadata": {},
   "outputs": [],
   "source": [
    "property_type_count = data.property_type.value_counts()\n",
    "property_type_count"
   ]
  },
  {
   "cell_type": "code",
   "execution_count": null,
   "metadata": {},
   "outputs": [],
   "source": [
    "country_name_count = data.country_name.value_counts()\n",
    "country_name_count"
   ]
  },
  {
   "cell_type": "code",
   "execution_count": null,
   "metadata": {},
   "outputs": [],
   "source": [
    "#Todos los valores de la columna country_name son Argentina \n",
    "#de la columna place_with_parents_name se puede reemplazar Argentina por string vacio"
   ]
  },
  {
   "cell_type": "code",
   "execution_count": 37,
   "metadata": {},
   "outputs": [
    {
     "data": {
      "text/plain": [
       "121220"
      ]
     },
     "execution_count": 37,
     "metadata": {},
     "output_type": "execute_result"
    }
   ],
   "source": [
    "len(data.place_with_parent_names.index)"
   ]
  },
  {
   "cell_type": "code",
   "execution_count": 38,
   "metadata": {},
   "outputs": [
    {
     "data": {
      "text/plain": [
       "63632            |Argentina|Bs.As. G.B.A. Zona Norte|Tigre|\n",
       "78534     |Argentina|Bs.As. G.B.A. Zona Sur|Esteban Eche...\n",
       "104411                 |Argentina|Capital Federal|Belgrano|\n",
       "9596                |Argentina|Capital Federal|Parque Chas|\n",
       "53785     |Argentina|Buenos Aires Costa Atlántica|Mar de...\n",
       "45184     |Argentina|Buenos Aires Costa Atlántica|Mar de...\n",
       "32324         |Argentina|Capital Federal|Parque Avellaneda|\n",
       "59465                          |Argentina|Santa Fe|Rosario|\n",
       "73371     |Argentina|Bs.As. G.B.A. Zona Sur|Lomas de Zam...\n",
       "16570             |Argentina|Capital Federal|San Cristobal|\n",
       "17212     |Argentina|Buenos Aires Costa Atlántica|San Be...\n",
       "99055     |Argentina|Bs.As. G.B.A. Zona Oeste|Tres de Fe...\n",
       "3011      |Argentina|Bs.As. G.B.A. Zona Norte|Tigre|Nord...\n",
       "114276    |Argentina|Buenos Aires Costa Atlántica|Mar de...\n",
       "67613     |Argentina|Bs.As. G.B.A. Zona Sur|Lomas de Zam...\n",
       "121193                                  |Argentina|Córdoba|\n",
       "96337     |Argentina|Bs.As. G.B.A. Zona Norte|General Sa...\n",
       "7480                  |Argentina|Capital Federal|San Telmo|\n",
       "66147     |Argentina|Bs.As. G.B.A. Zona Sur|Avellaneda|W...\n",
       "68597     |Argentina|Bs.As. G.B.A. Zona Sur|Ezeiza|Carlo...\n",
       "79935                          |Argentina|Santa Fe|Rosario|\n",
       "33896            |Argentina|Buenos Aires Interior|Baradero|\n",
       "71544     |Argentina|Bs.As. G.B.A. Zona Sur|Lomas de Zam...\n",
       "5094                            |Argentina|Capital Federal|\n",
       "25055     |Argentina|Bs.As. G.B.A. Zona Norte|General Sa...\n",
       "6104                  |Argentina|Capital Federal|Monserrat|\n",
       "24239     |Argentina|Buenos Aires Costa Atlántica|Mar de...\n",
       "4030             |Argentina|Bs.As. G.B.A. Zona Norte|Pilar|\n",
       "918       |Argentina|Bs.As. G.B.A. Zona Oeste|La Matanza...\n",
       "94286     |Argentina|Bs.As. G.B.A. Zona Norte|Pilar|Mayl...\n",
       "Name: place_with_parent_names, dtype: object"
      ]
     },
     "execution_count": 38,
     "metadata": {},
     "output_type": "execute_result"
    }
   ],
   "source": [
    "data.place_with_parent_names.sample(30)"
   ]
  },
  {
   "cell_type": "code",
   "execution_count": 28,
   "metadata": {},
   "outputs": [],
   "source": [
    "patron_arg = '^\\|Argentina'\n",
    "#RE busca |Argentina al comienzo del string\n",
    "patron_arg_regex = re.compile(patron_arg)"
   ]
  },
  {
   "cell_type": "code",
   "execution_count": 41,
   "metadata": {},
   "outputs": [],
   "source": [
    "#creo una variable nueva para hacer el apply y el remplazo \"|Argentina\" por string vacio \n",
    "place_parent_name_sin_arg = serie_place_with_parent_names.apply(lambda x: patron_arg_regex.sub(\"\",x))"
   ]
  },
  {
   "cell_type": "code",
   "execution_count": 40,
   "metadata": {},
   "outputs": [
    {
     "data": {
      "text/plain": [
       "59212                |Buenos Aires Costa Atlántica|Miramar|\n",
       "20944             |Bs.As. G.B.A. Zona Norte|Tigre|Nordelta|\n",
       "78537                                    |Chubut|Escalante|\n",
       "75534     |Bs.As. G.B.A. Zona Sur|Lomas de Zamora|Lomas ...\n",
       "106707                                            |Córdoba|\n",
       "22148          |Buenos Aires Costa Atlántica|Mar del Plata|\n",
       "73085     |Bs.As. G.B.A. Zona Sur|Lomas de Zamora|Banfield|\n",
       "95211                                    |Santa Fe|Rosario|\n",
       "105442                                |Tucumán|Yerba Buena|\n",
       "2371              |Bs.As. G.B.A. Zona Norte|Tigre|Nordelta|\n",
       "101143         |Buenos Aires Costa Atlántica|Mar del Plata|\n",
       "58272     |Buenos Aires Costa Atlántica|Mar del Plata|Ce...\n",
       "114742                                    |Córdoba|Córdoba|\n",
       "98660                          |Capital Federal|Colegiales|\n",
       "4986                                     |Santa Fe|Rosario|\n",
       "43858        |Bs.As. G.B.A. Zona Norte|San Isidro|Martínez|\n",
       "35559                                     |Córdoba|Córdoba|\n",
       "80741     |Bs.As. G.B.A. Zona Sur|Lomas de Zamora|Lomas ...\n",
       "46294      |Bs.As. G.B.A. Zona Norte|San Isidro|San Isidro|\n",
       "28872     |Bs.As. G.B.A. Zona Sur|Esteban Echeverría|Cou...\n",
       "11199                                     |Córdoba|Córdoba|\n",
       "101969    |Buenos Aires Costa Atlántica|Mar del Plata|Pl...\n",
       "119548    |Bs.As. G.B.A. Zona Norte|General San Martín|V...\n",
       "40991           |Bs.As. G.B.A. Zona Norte|Pilar|Boca Ratón|\n",
       "86399         |Bs.As. G.B.A. Zona Norte|Escobar|Septiembre|\n",
       "80747                           |Capital Federal|San Telmo|\n",
       "45106                 |Bs.As. G.B.A. Zona Oeste|Hurlingham|\n",
       "88517     |Bs.As. G.B.A. Zona Sur|Esteban Echeverría|Can...\n",
       "64489     |Bs.As. G.B.A. Zona Norte|Vicente López|La Luc...\n",
       "117876                             |Capital Federal|Flores|\n",
       "Name: place_with_parent_names, dtype: object"
      ]
     },
     "execution_count": 40,
     "metadata": {},
     "output_type": "execute_result"
    }
   ],
   "source": [
    "place_parent_name_sin_arg.sample(30)"
   ]
  },
  {
   "cell_type": "code",
   "execution_count": null,
   "metadata": {},
   "outputs": [],
   "source": [
    "#De lo que queda en esta serie, hay que ver cómo separar la última localidad, \n",
    "# algunas tienen tres partes (4 pipes), otras tienen solo 2 (3 pipes)"
   ]
  }
 ],
 "metadata": {
  "kernelspec": {
   "display_name": "Python 3",
   "language": "python",
   "name": "python3"
  },
  "language_info": {
   "codemirror_mode": {
    "name": "ipython",
    "version": 3
   },
   "file_extension": ".py",
   "mimetype": "text/x-python",
   "name": "python",
   "nbconvert_exporter": "python",
   "pygments_lexer": "ipython3",
   "version": "3.7.9"
  }
 },
 "nbformat": 4,
 "nbformat_minor": 4
}
